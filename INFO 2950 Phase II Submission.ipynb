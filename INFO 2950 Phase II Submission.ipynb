{
 "cells": [
  {
   "cell_type": "code",
   "execution_count": 2,
   "id": "475dd17d",
   "metadata": {},
   "outputs": [
    {
     "name": "stdout",
     "output_type": "stream",
     "text": [
      "Collecting package metadata (current_repodata.json): ...working... done\n",
      "Solving environment: ...working... done\n",
      "\n",
      "# All requested packages already installed.\n",
      "\n",
      "Collecting package metadata (current_repodata.json): ...working... done\n",
      "Solving environment: ...working... done\n",
      "\n",
      "# All requested packages already installed.\n",
      "\n"
     ]
    }
   ],
   "source": [
    "import sys\n",
    "!conda install --yes --prefix {sys.prefix} requests\n",
    "!conda install --yes --prefix {sys.prefix} bs4\n",
    "\n",
    "import requests #package for http requests\n",
    "import bs4 # package for html parsing\n",
    "import numpy as np\n",
    "import matplotlib.pyplot as plt\n",
    "import pandas as pd\n",
    "from sklearn.linear_model import LinearRegression"
   ]
  },
  {
   "cell_type": "markdown",
   "id": "2cf5c817",
   "metadata": {},
   "source": [
    "# Research Question(s)"
   ]
  },
  {
   "cell_type": "markdown",
   "id": "ca39486e",
   "metadata": {},
   "source": [
    "How do the value of F1 racers compare to their compensation? And from this, which players are economically undervalued and which are overvalued?\n"
   ]
  },
  {
   "cell_type": "markdown",
   "id": "20619385",
   "metadata": {},
   "source": [
    "# Data Collection and Cleaning"
   ]
  },
  {
   "cell_type": "markdown",
   "id": "44c6baf7",
   "metadata": {},
   "source": [
    "## Data Collection Description\n",
    "Our data collection consisted of two components. First, we scrapped the official formula1.com website for official race results. Using BeautifulSoup, we coded a for loop to parse through individual driver result datasets and overall race result datasets from 1950 to 2021, storing driver and race results in two separate dataframes over 1,000 rows each. We also utilized this for loop to add a ‘Year’ column to attach the year the race occurred for every row to help with connecting the results to the salary data later. This BeautifulSoup for loop was sufficient to convert the results data into DataFrames. Secondly, with the results data established, we had to pull in corresponding salary data to determine how salaries correlated with individual and race performance. Unfortunately, this data is not officially published, and no one website contained data for all years. Thus, we had to parse through the internet, collecting data on salaries from 2021 to 2010 from various sites and compiling the information into a CSV, which was then loaded into Python.  \n",
    "\n",
    "## Additional Data Curation/Cleaning\n",
    "With our three datasets established, we then had to clean each to ensure that the data would be ready for analysis and that the data frames could be merged. Firstly, the two datasets created using BeautifulSoup pulled in multiple ‘Unnamed’ columns, so we dropped these columns and set the dataframes equal to the columns we wanted to conduct analysis on. Importantly, the BeautifulSoup code also had difficulty parsing driver names with special symbols. For example, Kimi Räikkönen was pulled in as RÃ¤ikkÃ¶nen. So, we parsed through both result dataframes and replaced names that were incorrectly translated to their english version, so for Kimi, we replaced RÃ¤ikkÃ¶nen with “Raikkonen”. Additionally, in order to merge results with the salary table, we had to ensure that driver names were exact matches, so we also parsed through all names in each table and replaced all double spaces with single spaces and trimmed any additional white space that may have been brought in. In all datasets, all numerical values were pulled in as numeric, so no transformation or cleaning was needed.\n",
    "\n",
    "With this cleaning completed, we then successfully merged our result tables with our salary tables using an inner join on driver name and year to ensure that we accurately represented the salary a driver was earning the year their result was recorded. Additionally, we added a column to our analysis to represent the driver’s “cost per point” by dividing the salary column by the points column. This created issues for drivers with 0 points creating inf values, so we had to ensure that we dropped all inf values from this table. \n",
    "\n",
    "## Data Collection Code:"
   ]
  },
  {
   "cell_type": "code",
   "execution_count": 21,
   "id": "e95f719e",
   "metadata": {},
   "outputs": [],
   "source": [
    "salary_url = 'https://drive.google.com/file/d/1AG_ReOXKGeYSe2WhPk1Q2_G96wGR1GdT/view?usp=sharing'\n",
    "driver_url = 'https://drive.google.com/file/d/1SxJfQf2UFY2YmQ7VMpbJT9DMCBVgDd2i/view?usp=sharing'\n",
    "race_url = 'https://drive.google.com/file/d/14Pd84yn97UWAaVrdAkz3WsihVeUwDj2G/view?usp=sharing'\n",
    "\n",
    "salary_url2='https://drive.google.com/uc?id=' + salary_url.split('/')[-2]\n",
    "driver_url2='https://drive.google.com/uc?id=' + driver_url.split('/')[-2]\n",
    "race_url2='https://drive.google.com/uc?id=' + race_url.split('/')[-2]\n",
    "\n",
    "salary_df = pd.read_csv(salary_url2,encoding='windows-1252')\n",
    "driver_df = pd.read_csv(driver_url2)\n",
    "race_df = pd.read_csv(url2)"
   ]
  },
  {
   "cell_type": "code",
   "execution_count": 22,
   "id": "d58358f4",
   "metadata": {},
   "outputs": [],
   "source": [
    "#data cleaning\n",
    "driver_df = driver_df[['Pos','Driver','Nationality','Car','PTS','Year']]\n",
    "race_df = race_df[['Grand Prix','Date','Winner','Car','Laps','Time','Year']]\n",
    "\n",
    "driver_df['Driver'] = driver_df['Driver'].str.rsplit(' ',1).str[0]\n",
    "driver_df['Driver'] = driver_df['Driver'].str.replace('  ', ' ')\n",
    "driver_df['Driver'] = driver_df['Driver'].str.replace('   ', ' ')\n",
    "driver_df['Driver'] = driver_df['Driver'].str.replace('RÃ¤ikkÃ¶nen','Raikkonen')\n",
    "race_df['Winner'] = race_df['Winner'].str.rsplit(' ',1).str[0]"
   ]
  },
  {
   "cell_type": "code",
   "execution_count": 24,
   "id": "71c07953",
   "metadata": {},
   "outputs": [],
   "source": [
    "#merging tables\n",
    "results_by_salary= salary_df.merge(driver_df,on=['Driver','Year'])"
   ]
  },
  {
   "cell_type": "code",
   "execution_count": 37,
   "id": "7ce9fc66",
   "metadata": {},
   "outputs": [
    {
     "data": {
      "text/plain": [
       "185"
      ]
     },
     "execution_count": 37,
     "metadata": {},
     "output_type": "execute_result"
    }
   ],
   "source": [
    "#adding column for cost per point (CPP) by player\n",
    "results_by_salary['CPP'] = results_by_salary['Salary']/results_by_salary['PTS']\n",
    "CPP_df = results_by_salary[results_by_salary['CPP']!=np.inf]\n",
    "CPP_df = CPP_df.dropna()\n",
    "\n",
    "len(CPP_df)"
   ]
  },
  {
   "cell_type": "markdown",
   "id": "6161358f",
   "metadata": {},
   "source": [
    "# Data Description"
   ]
  },
  {
   "cell_type": "markdown",
   "id": "0d386bb6",
   "metadata": {},
   "source": [
    "## Motivation\n",
    "This dataset was created as part of a final project for the Introductory Data Science course, INFO 2950, at Cornell University to analyze the value of individual F1 racers through data analysis. The dataset was created by Ashton O’Connor and Quimey Moure, students in the course, on behalf of Cornell University. The dataset was created for free and as part of a course assignment. \n",
    "\n",
    "## Composition\n",
    "In our dataset, observations (rows) are individual occurrences of a racer’s result at a race. Each row can be identified by a combination of the driver’s name and racing year as a composite key. The attributes (columns) describe the performance and corresponding salary of the driver, specifically measuring position, points, year of the race, and salary earned for that year. For our individual driver data, our dataset contains 1,596 instances, while our dataset for race data contains 1,054 instances and for salaries contains 250 observations. Due to the absence of salary data, our final dataset contains 208 rows as a result of the inner join.\n",
    "\n",
    "Both our race results contain all possible instances of recorded F1 racing data as they are scrapped from the official F1 website. However, due to the confidentiality of driver salaries, our salary data and resulting merged table only contain a sample of driver results with corresponding salaries. \n",
    "\n",
    "## Collection Process\n",
    "The nature of F1 racing and the data collected on results enabled us to collect the entire population of F1 data from the official website through simple web scraping. However, since our project is focused on the connection between performance and pay, the availability of salary data for individual drivers, especially for those that are not highly popular or for those going back beyond 2010 limited the data that we could observe and record. Most websites containing information on salaries only had salary information for the top ten drivers at the time, and were often rough estimates. \n",
    "\n",
    "## Preprocessing\n",
    "The official data for race results was collected by F1 and uploaded to the formula1 website in an easily digestible format, which allowed us to simply copy the datasets from the website and append all data to one large frame. In order to compile salary data however, the majority of information was based upon inside sources that had published data on popular players online. We scraped the web and compiled a CSV from various websites by year for driver salary data.\n",
    "\n",
    "## Uses\n",
    "Our raw data can be found on this Google Drive. Please reach out to Quimey Moure (qem2) or Ashton O’Connor (amo85) with any issues accessing the link. \n",
    "This dataset has so far been used to conduct initial exploratory data analysis, detailed below, which was used to inform our research question and future goals for our analysis. \n"
   ]
  },
  {
   "cell_type": "markdown",
   "id": "348beace",
   "metadata": {},
   "source": [
    "# Data Limitations"
   ]
  },
  {
   "cell_type": "markdown",
   "id": "244ce1fd",
   "metadata": {},
   "source": [
    "# Exploratory Data Analysis"
   ]
  },
  {
   "cell_type": "code",
   "execution_count": 32,
   "id": "973f6a75",
   "metadata": {},
   "outputs": [
    {
     "name": "stdout",
     "output_type": "stream",
     "text": [
      "Average Salary:  $ 9287661.96\n",
      "Average PTS:  96.9\n",
      "Average Cost per Point:  $ 223139.42\n",
      "Highest Salary:  $ 76000000\n"
     ]
    }
   ],
   "source": [
    "#summary statistics:\n",
    "\n",
    "#average salary\n",
    "avg_salary = results_by_salary['Salary'].mean()\n",
    "#average points\n",
    "avg_pts = results_by_salary['PTS'].mean()\n",
    "\n",
    "#average cost per point (CPP)\n",
    "avg_cpp = CPP_df['CPP'].mean()\n",
    "\n",
    "print(\"Average Salary: \",\"$\",round(avg_salary,2))\n",
    "print(\"Average PTS: \",round(avg_pts,2))\n",
    "print(\"Average Cost per Point: \",\"$\",round(avg_cpp,2))\n",
    "print(\"Highest Salary: \",\"$\",max(results_by_salary['Salary']))"
   ]
  },
  {
   "cell_type": "code",
   "execution_count": 29,
   "id": "d25cb88e",
   "metadata": {},
   "outputs": [
    {
     "data": {
      "image/png": "[encoded data removed]",
      "text/plain": [
       "<Figure size 1080x288 with 1 Axes>"
      ]
     },
     "metadata": {
      "needs_background": "light"
     },
     "output_type": "display_data"
    }
   ],
   "source": [
    "#top ten racers' CPPS\n",
    "vb = CPP_df[CPP_df['Driver']=='Valtteri Bottas']\n",
    "gr = CPP_df[CPP_df['Driver']=='George Russell']\n",
    "ln = CPP_df[CPP_df['Driver']=='Lando Norris']\n",
    "cl = CPP_df[CPP_df['Driver']=='Charles Leclerc']\n",
    "cs = CPP_df[CPP_df['Driver']=='Carlos Sainz']\n",
    "dr = CPP_df[CPP_df['Driver']=='Daniel Ricciardo']\n",
    "sp = CPP_df[CPP_df['Driver']=='Sergio Perez']\n",
    "mv = CPP_df[CPP_df['Driver']=='Max Verstappen']\n",
    "lh = CPP_df[CPP_df['Driver']=='Lewis Hamilton']\n",
    "plt.rcParams[\"figure.figsize\"] = [15, 4]\n",
    "plt.boxplot([vb['CPP'], gr['CPP'],ln['CPP'],cl['CPP'],cs['CPP'],dr['CPP'],sp['CPP'],mv['CPP'],lh['CPP']])\n",
    "driver_labels = ('Valtteri Bottas','George Russell','Lando Norris','Charles Leclerc','Carlos Sainz','Daniel Ricciardo',\n",
    "          'Sergio Perez','Max Verstappen','Lewis Hamilton')\n",
    "plt.xticks(np.arange(len(driver_labels))+1,driver_labels)\n",
    "plt.ylabel('Cost per Point')\n",
    "plt.title(\"Cost per Point by Top Drivers\")\n",
    "plt.show()"
   ]
  },
  {
   "cell_type": "code",
   "execution_count": 36,
   "id": "603e1485",
   "metadata": {},
   "outputs": [
    {
     "data": {
      "image/png": "[encoded data removed]",
      "text/plain": [
       "<Figure size 1080x288 with 1 Axes>"
      ]
     },
     "metadata": {
      "needs_background": "light"
     },
     "output_type": "display_data"
    },
    {
     "name": "stdout",
     "output_type": "stream",
     "text": [
      "Linear Regression Equation: [4.33698439e-06] *x + 64.45\n"
     ]
    }
   ],
   "source": [
    "#regression model of how salary impacts the points a driver earns\n",
    "\n",
    "x=CPP_df[['Salary']]\n",
    "y=CPP_df['PTS']\n",
    "plt.scatter(x,y)\n",
    "\n",
    "#fit regression\n",
    "regressor = LinearRegression()\n",
    "regressor.fit(x,y)\n",
    "ypred = regressor.predict(CPP_df[['Salary']])\n",
    "\n",
    "#plot regression\n",
    "plt.plot(x,regressor.coef_*x + regressor.intercept_)\n",
    "plt.xlabel('Salary')\n",
    "plt.ylabel('Points')\n",
    "plt.title('Points Scored by Salary')\n",
    "plt.tight_layout()\n",
    "\n",
    "plt.show()\n",
    "print(\"Linear Regression Equation:\",regressor.coef_,\"*x +\",round(regressor.intercept_,2))"
   ]
  },
  {
   "cell_type": "code",
   "execution_count": null,
   "id": "7848d8aa",
   "metadata": {},
   "outputs": [],
   "source": [
    "#Questions: is this how i show analysis?\n",
    "#are we actually supposed to be bringing in the data?\n",
    "#is 208 enough datapoints?"
   ]
  }
 ],
 "metadata": {
  "kernelspec": {
   "display_name": "Python 3",
   "language": "python",
   "name": "python3"
  },
  "language_info": {
   "codemirror_mode": {
    "name": "ipython",
    "version": 3
   },
   "file_extension": ".py",
   "mimetype": "text/x-python",
   "name": "python",
   "nbconvert_exporter": "python",
   "pygments_lexer": "ipython3",
   "version": "3.8.8"
  }
 },
 "nbformat": 4,
 "nbformat_minor": 5
}
