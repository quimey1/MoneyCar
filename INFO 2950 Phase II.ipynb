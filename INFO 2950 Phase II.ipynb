{
 "cells": [
  {
   "cell_type": "code",
   "execution_count": 1,
   "id": "d97c31b6",
   "metadata": {},
   "outputs": [
    {
     "name": "stdout",
     "output_type": "stream",
     "text": [
      "Collecting package metadata (current_repodata.json): ...working... done\n",
      "Solving environment: ...working... done\n",
      "\n",
      "# All requested packages already installed.\n",
      "\n",
      "Collecting package metadata (current_repodata.json): ...working... done\n",
      "Solving environment: ...working... done\n",
      "\n",
      "# All requested packages already installed.\n",
      "\n"
     ]
    }
   ],
   "source": [
    "import sys\n",
    "!conda install --yes --prefix {sys.prefix} requests\n",
    "!conda install --yes --prefix {sys.prefix} bs4\n",
    "\n",
    "import requests #package for http requests\n",
    "import bs4 # package for html parsing\n",
    "import numpy as np\n",
    "import matplotlib.pyplot as plt\n",
    "import pandas as pd"
   ]
  },
  {
   "cell_type": "code",
   "execution_count": 2,
   "id": "b0976ade",
   "metadata": {},
   "outputs": [],
   "source": [
    "current = 2021\n",
    "years = list(range(current, current - 72, -1))"
   ]
  },
  {
   "cell_type": "code",
   "execution_count": 3,
   "id": "d6274d0a",
   "metadata": {},
   "outputs": [],
   "source": [
    "race_results = pd.DataFrame()\n",
    "for year in years:\n",
    "    link = 'https://www.formula1.com/en/results.html/'+str(year)+'/races.html'\n",
    "    source = requests.get(link)\n",
    "    soup = bs4.BeautifulSoup(source.text,'lxml')\n",
    "    table = soup.find_all('table')[0] \n",
    "    df = pd.read_html(str(table), flavor='bs4', header=[0])[0]\n",
    "    df['Year'] = year\n",
    "    race_results = race_results.append(df,ignore_index=True)\n",
    "race_results = race_results[['Grand Prix','Date','Winner','Car','Laps','Time','Year']]"
   ]
  },
  {
   "cell_type": "code",
   "execution_count": 4,
   "id": "17a2e3e6",
   "metadata": {},
   "outputs": [],
   "source": [
    "driver_results = pd.DataFrame()\n",
    "for year in years:\n",
    "    dlink = 'https://www.formula1.com/en/results.html/'+str(year)+'/drivers.html'\n",
    "    dsource = requests.get(dlink)\n",
    "    dsoup = bs4.BeautifulSoup(dsource.text,'lxml')\n",
    "    dtable = dsoup.find_all('table')[0] \n",
    "    ddf = pd.read_html(str(dtable), flavor='bs4', header=[0])[0]\n",
    "    ddf['Year'] = year\n",
    "    driver_results = driver_results.append(ddf,ignore_index=True)\n",
    "driver_results = driver_results[['Pos','Driver','Nationality','Car','PTS','Year']]"
   ]
  },
  {
   "cell_type": "code",
   "execution_count": 5,
   "id": "8b0d18fc",
   "metadata": {},
   "outputs": [],
   "source": [
    "driver_salaries = pd.DataFrame()\n",
    "for year in ['2021','2020','2019','2018']:\n",
    "\n",
    "    slink = 'https://www.spotrac.com/formula1/'+str(year)+'/'\n",
    "    ssource = requests.get(slink)\n",
    "    ssoup = bs4.BeautifulSoup(ssource.text,'lxml')\n",
    "    rows = ssoup.find_all('tr') \n",
    "    drivers =[]\n",
    "    for row in range(len(rows)):\n",
    "        drivers_row = []\n",
    "        columns = rows[row].findAll('td')\n",
    "        for column in columns:\n",
    "            drivers_row.append(column.getText())\n",
    "        drivers.append(drivers_row)\n",
    "    salaries = pd.DataFrame(drivers).dropna()\n",
    "    salaries['Year']=year\n",
    "    driver_salaries = driver_salaries.append(salaries,ignore_index=True)   \n",
    "    \n",
    "new_colnames = ['Driver','Age','Country','Salary','Year']\n",
    "driver_salaries.columns = new_colnames\n",
    "driver_salaries['Driver'] = [row.strip() for row in driver_salaries['Driver']]"
   ]
  },
  {
   "cell_type": "code",
   "execution_count": 6,
   "id": "e5277643",
   "metadata": {},
   "outputs": [],
   "source": [
    "driver_results['Driver'] = driver_results['Driver'].str.rsplit(' ',1).str[0]\n",
    "driver_results['Driver'] = driver_results['Driver'].str.replace('  ', ' ')\n",
    "driver_results['Driver'] = driver_results['Driver'].str.replace('   ', ' ')\n",
    "race_results['Winner'] = race_results['Winner'].str.rsplit(' ',1).str[0]"
   ]
  },
  {
   "cell_type": "code",
   "execution_count": null,
   "id": "a1c805ad",
   "metadata": {},
   "outputs": [],
   "source": []
  }
 ],
 "metadata": {
  "kernelspec": {
   "display_name": "Python 3",
   "language": "python",
   "name": "python3"
  },
  "language_info": {
   "codemirror_mode": {
    "name": "ipython",
    "version": 3
   },
   "file_extension": ".py",
   "mimetype": "text/x-python",
   "name": "python",
   "nbconvert_exporter": "python",
   "pygments_lexer": "ipython3",
   "version": "3.8.8"
  }
 },
 "nbformat": 4,
 "nbformat_minor": 5
}
