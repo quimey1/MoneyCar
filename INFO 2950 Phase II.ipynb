{
 "cells": [
  {
   "cell_type": "code",
   "execution_count": 3,
   "id": "d97c31b6",
   "metadata": {},
   "outputs": [
    {
     "name": "stdout",
     "output_type": "stream",
     "text": [
      "Collecting package metadata (current_repodata.json): ...working... done\n",
      "Solving environment: ...working... done\n",
      "\n",
      "# All requested packages already installed.\n",
      "\n",
      "Collecting package metadata (current_repodata.json): ...working... done\n",
      "Solving environment: ...working... done\n",
      "\n",
      "# All requested packages already installed.\n",
      "\n"
     ]
    }
   ],
   "source": [
    "import sys\n",
    "!conda install --yes --prefix {sys.prefix} requests\n",
    "!conda install --yes --prefix {sys.prefix} bs4\n",
    "\n",
    "import requests #package for http requests\n",
    "import bs4 # package for html parsing\n",
    "import numpy as np\n",
    "import matplotlib.pyplot as plt\n",
    "import pandas as pd\n",
    "from sklearn.linear_model import LinearRegression"
   ]
  },
  {
   "cell_type": "code",
   "execution_count": 4,
   "id": "b0976ade",
   "metadata": {},
   "outputs": [],
   "source": [
    "current = 2021\n",
    "years = list(range(current, current - 72, -1))"
   ]
  },
  {
   "cell_type": "code",
   "execution_count": 5,
   "id": "d6274d0a",
   "metadata": {},
   "outputs": [],
   "source": [
    "race_results = pd.DataFrame()\n",
    "for year in years:\n",
    "    link = 'https://www.formula1.com/en/results.html/'+str(year)+'/races.html'\n",
    "    source = requests.get(link)\n",
    "    soup = bs4.BeautifulSoup(source.text,'lxml')\n",
    "    table = soup.find_all('table')[0] \n",
    "    df = pd.read_html(str(table), flavor='bs4', header=[0])[0]\n",
    "    df['Year'] = year\n",
    "    race_results = race_results.append(df,ignore_index=True)\n",
    "race_results = race_results[['Grand Prix','Date','Winner','Car','Laps','Time','Year']]"
   ]
  },
  {
   "cell_type": "code",
   "execution_count": 6,
   "id": "17a2e3e6",
   "metadata": {},
   "outputs": [],
   "source": [
    "driver_results = pd.DataFrame()\n",
    "for year in years:\n",
    "    dlink = 'https://www.formula1.com/en/results.html/'+str(year)+'/drivers.html'\n",
    "    dsource = requests.get(dlink)\n",
    "    dsoup = bs4.BeautifulSoup(dsource.text,'lxml')\n",
    "    dtable = dsoup.find_all('table')[0] \n",
    "    ddf = pd.read_html(str(dtable), flavor='bs4', header=[0])[0]\n",
    "    ddf['Year'] = year\n",
    "    driver_results = driver_results.append(ddf,ignore_index=True)\n",
    "driver_results = driver_results[['Pos','Driver','Nationality','Car','PTS','Year']]"
   ]
  },
  {
   "cell_type": "code",
   "execution_count": 7,
   "id": "8b0d18fc",
   "metadata": {},
   "outputs": [],
   "source": [
    "driver_salaries = pd.DataFrame()\n",
    "for year in ['2021','2020','2019','2018']:\n",
    "\n",
    "    slink = 'https://www.spotrac.com/formula1/'+str(year)+'/'\n",
    "    ssource = requests.get(slink)\n",
    "    ssoup = bs4.BeautifulSoup(ssource.text,'lxml')\n",
    "    rows = ssoup.find_all('tr') \n",
    "    drivers =[]\n",
    "    for row in range(len(rows)):\n",
    "        drivers_row = []\n",
    "        columns = rows[row].findAll('td')\n",
    "        for column in columns:\n",
    "            drivers_row.append(column.getText())\n",
    "        drivers.append(drivers_row)\n",
    "    salaries = pd.DataFrame(drivers).dropna()\n",
    "    salaries['Year']=year\n",
    "    driver_salaries = driver_salaries.append(salaries,ignore_index=True)   \n",
    "    \n",
    "new_colnames = ['Driver','Age','Country','Salary','Year']\n",
    "driver_salaries.columns = new_colnames\n",
    "driver_salaries['Driver'] = [row.strip() for row in driver_salaries['Driver']]"
   ]
  },
  {
   "cell_type": "code",
   "execution_count": 8,
   "id": "e5277643",
   "metadata": {},
   "outputs": [],
   "source": [
    "driver_results['Driver'] = driver_results['Driver'].str.rsplit(' ',1).str[0]\n",
    "driver_results['Driver'] = driver_results['Driver'].str.replace('  ', ' ')\n",
    "driver_results['Driver'] = driver_results['Driver'].str.replace('   ', ' ')\n",
    "driver_results['Driver'] = driver_results['Driver'].str.replace('RÃ¤ikkÃ¶nen','Raikkonen')\n",
    "race_results['Winner'] = race_results['Winner'].str.rsplit(' ',1).str[0]"
   ]
  },
  {
   "cell_type": "code",
   "execution_count": 9,
   "id": "068d110b",
   "metadata": {},
   "outputs": [],
   "source": [
    "salaries_by_year = pd.read_csv('C:\\\\Users\\\\ashto\\\\Desktop\\\\Salaries.csv')"
   ]
  },
  {
   "cell_type": "code",
   "execution_count": 10,
   "id": "647369b2",
   "metadata": {},
   "outputs": [
    {
     "data": {
      "text/html": [
       "<div>\n",
       "<style scoped>\n",
       "    .dataframe tbody tr th:only-of-type {\n",
       "        vertical-align: middle;\n",
       "    }\n",
       "\n",
       "    .dataframe tbody tr th {\n",
       "        vertical-align: top;\n",
       "    }\n",
       "\n",
       "    .dataframe thead th {\n",
       "        text-align: right;\n",
       "    }\n",
       "</style>\n",
       "<table border=\"1\" class=\"dataframe\">\n",
       "  <thead>\n",
       "    <tr style=\"text-align: right;\">\n",
       "      <th></th>\n",
       "      <th>Driver</th>\n",
       "      <th>Salary</th>\n",
       "      <th>Year</th>\n",
       "    </tr>\n",
       "  </thead>\n",
       "  <tbody>\n",
       "    <tr>\n",
       "      <th>0</th>\n",
       "      <td>Kimi Raikkonen</td>\n",
       "      <td>7525000</td>\n",
       "      <td>2021</td>\n",
       "    </tr>\n",
       "    <tr>\n",
       "      <th>1</th>\n",
       "      <td>Antonio Giovinazzi</td>\n",
       "      <td>684000</td>\n",
       "      <td>2021</td>\n",
       "    </tr>\n",
       "    <tr>\n",
       "      <th>2</th>\n",
       "      <td>Fernando Alonso</td>\n",
       "      <td>20500000</td>\n",
       "      <td>2021</td>\n",
       "    </tr>\n",
       "    <tr>\n",
       "      <th>3</th>\n",
       "      <td>Esteban Ocon</td>\n",
       "      <td>4652000</td>\n",
       "      <td>2021</td>\n",
       "    </tr>\n",
       "    <tr>\n",
       "      <th>4</th>\n",
       "      <td>Sebastian Vettel</td>\n",
       "      <td>17000000</td>\n",
       "      <td>2021</td>\n",
       "    </tr>\n",
       "  </tbody>\n",
       "</table>\n",
       "</div>"
      ],
      "text/plain": [
       "               Driver    Salary  Year\n",
       "0      Kimi Raikkonen   7525000  2021\n",
       "1  Antonio Giovinazzi    684000  2021\n",
       "2     Fernando Alonso  20500000  2021\n",
       "3        Esteban Ocon   4652000  2021\n",
       "4    Sebastian Vettel  17000000  2021"
      ]
     },
     "execution_count": 10,
     "metadata": {},
     "output_type": "execute_result"
    }
   ],
   "source": [
    "salaries_by_year = salaries_by_year[['Driver','Salary','Year']]\n",
    "salaries_by_year.head()"
   ]
  },
  {
   "cell_type": "code",
   "execution_count": 11,
   "id": "8e673fee",
   "metadata": {},
   "outputs": [],
   "source": [
    "#results_by_salary = driver_results.merge(salaries_by_year,how='left',on=['Driver','Year'])\n",
    "results_by_salary= salaries_by_year.merge(driver_results,on=['Driver','Year'])"
   ]
  },
  {
   "cell_type": "code",
   "execution_count": 12,
   "id": "c15aa679",
   "metadata": {},
   "outputs": [
    {
     "name": "stdout",
     "output_type": "stream",
     "text": [
      "Coef: [0.00740695]\n",
      "inter: 147144.47419705326\n"
     ]
    },
    {
     "data": {
      "image/png": "[encoded data removed]",
      "text/plain": [
       "<Figure size 432x288 with 1 Axes>"
      ]
     },
     "metadata": {
      "needs_background": "light"
     },
     "output_type": "display_data"
    }
   ],
   "source": [
    "#analyze cost per point\n",
    "results_by_salary['Cost per Point'] = results_by_salary['Salary']/results_by_salary['PTS']\n",
    "n = results_by_salary[results_by_salary['Cost per Point']!=np.inf]\n",
    "x=n[['Salary']].dropna()\n",
    "y=n['Cost per Point'].dropna()\n",
    "plt.scatter(x,y)\n",
    "#avg salary/points per player\n",
    "\n",
    "#regression\n",
    "regressor = LinearRegression()\n",
    "regressor.fit(x,y)\n",
    "ypred = regressor.predict(n[['Salary']])\n",
    "\n",
    "print(\"Coef:\",regressor.coef_)\n",
    "print(\"inter:\",regressor.intercept_)\n",
    "plt.scatter(x,ypred)\n",
    "plt.tight_layout()\n",
    "plt.show()"
   ]
  },
  {
   "cell_type": "code",
   "execution_count": 13,
   "id": "ad46b2d3",
   "metadata": {},
   "outputs": [
    {
     "data": {
      "text/plain": [
       "([<matplotlib.axis.XTick at 0x1c187a846d0>,\n",
       "  <matplotlib.axis.XTick at 0x1c187a846a0>,\n",
       "  <matplotlib.axis.XTick at 0x1c1914da8b0>,\n",
       "  <matplotlib.axis.XTick at 0x1c191a5ceb0>],\n",
       " [Text(1, 0, 'Red Bull'),\n",
       "  Text(2, 0, 'Ferrari'),\n",
       "  Text(3, 0, 'Mercedes'),\n",
       "  Text(4, 0, 'Renault')])"
      ]
     },
     "execution_count": 13,
     "metadata": {},
     "output_type": "execute_result"
    },
    {
     "data": {
      "image/png": "[encoded data removed]",
      "text/plain": [
       "<Figure size 432x288 with 1 Axes>"
      ]
     },
     "metadata": {
      "needs_background": "light"
     },
     "output_type": "display_data"
    }
   ],
   "source": [
    "n[n['Cost per Point']==max(y)]\n",
    "n[n['Cost per Point']==min(y)]\n",
    "\n",
    "red_bull = n[n['Car']=='Red Bull Racing Honda']\n",
    "ferrari = n[n['Car']=='Ferrari']\n",
    "mercedes = n[n['Car']=='Mercedes']\n",
    "renault = n[n['Car']=='Renault']\n",
    "plt.boxplot([red_bull['Cost per Point'],\n",
    "             ferrari['Cost per Point'],\n",
    "             mercedes['Cost per Point'],\n",
    "             renault['Cost per Point']\n",
    "            ])\n",
    "labels = ('Red Bull', 'Ferrari','Mercedes','Renault')\n",
    "plt.xticks(np.arange(len(labels))+1,labels)\n"
   ]
  },
  {
   "cell_type": "code",
   "execution_count": 14,
   "id": "bc172a95",
   "metadata": {},
   "outputs": [
    {
     "data": {
      "text/plain": [
       "Text(0.5, 1.0, 'Cost per Point by Car')"
      ]
     },
     "execution_count": 14,
     "metadata": {},
     "output_type": "execute_result"
    },
    {
     "data": {
      "image/png": "[encoded data removed]",
      "text/plain": [
       "<Figure size 432x288 with 1 Axes>"
      ]
     },
     "metadata": {
      "needs_background": "light"
     },
     "output_type": "display_data"
    }
   ],
   "source": [
    "#remove outliers\n",
    "def remove_outlier(df):\n",
    "    Q1 = df['Cost per Point'].quantile(0.25)\n",
    "    Q3 = df['Cost per Point'].quantile(0.75)\n",
    "    IQR = Q3 - Q1\n",
    "    filter = df[(df['Cost per Point'] >= Q1 - 1.5 * IQR) & (df['Cost per Point'] <= Q3 + 1.5 *IQR)]\n",
    "    return filter\n",
    "\n",
    "red_bull_no = remove_outlier(red_bull)\n",
    "ferrari_no= remove_outlier(ferrari)\n",
    "mercedes_no= remove_outlier(mercedes)\n",
    "renault_no= remove_outlier(renault)\n",
    "\n",
    "plt.boxplot([red_bull_no['Cost per Point'],\n",
    "             ferrari_no['Cost per Point'],\n",
    "             mercedes_no['Cost per Point'],\n",
    "             renault_no['Cost per Point']\n",
    "            ])\n",
    "labels = ('Red Bull', 'Ferrari','Mercedes','Renault')\n",
    "plt.xticks(np.arange(len(labels))+1,labels)\n",
    "plt.title(\"Cost per Point by Car\")"
   ]
  },
  {
   "cell_type": "code",
   "execution_count": 15,
   "id": "89f4be31",
   "metadata": {},
   "outputs": [
    {
     "data": {
      "image/png": "[encoded data removed]",
      "text/plain": [
       "<Figure size 432x288 with 1 Axes>"
      ]
     },
     "metadata": {
      "needs_background": "light"
     },
     "output_type": "display_data"
    }
   ],
   "source": [
    "#top ten racers\n",
    "\n",
    "vb = n[n['Driver']=='Valtteri Bottas']\n",
    "gr = n[n['Driver']=='George Russell']\n",
    "ln = n[n['Driver']=='Lando Norris']\n",
    "cl = n[n['Driver']=='Charles Leclerc']\n",
    "cs = n[n['Driver']=='Carlos Sainz']\n",
    "dr = n[n['Driver']=='Daniel Ricciardo']\n",
    "sp = n[n['Driver']=='Sergio Perez']\n",
    "mv = n[n['Driver']=='Max Verstappen']\n",
    "lh = n[n['Driver']=='Lewis Hamilton']\n",
    "\n",
    "plt.boxplot([vb['Cost per Point'],\n",
    "             gr['Cost per Point'],\n",
    "             ln['Cost per Point'],\n",
    "             cl['Cost per Point'],\n",
    "             cs['Cost per Point'],\n",
    "             dr['Cost per Point'],\n",
    "             sp['Cost per Point'],\n",
    "             mv['Cost per Point'],\n",
    "             lh['Cost per Point']\n",
    "            ],widths=(1, 1, 1, 1,1,1,1,1,1))\n",
    "newlabels = ('Valtteri Bottas','George Russell','Lando Norris','Charles Leclerc','Carlos Sainz','Daniel Ricciardo',\n",
    "          'Sergio Perez','Max Verstappen','Lewis Hamilton')\n",
    "plt.xticks(np.arange(len(newlabels))+1,newlabels)\n",
    "plt.title(\"Cost per Point by Driver\")\n",
    "plt.show()"
   ]
  },
  {
   "cell_type": "code",
   "execution_count": 16,
   "id": "9e7b1309",
   "metadata": {},
   "outputs": [
    {
     "data": {
      "text/html": [
       "<div>\n",
       "<style scoped>\n",
       "    .dataframe tbody tr th:only-of-type {\n",
       "        vertical-align: middle;\n",
       "    }\n",
       "\n",
       "    .dataframe tbody tr th {\n",
       "        vertical-align: top;\n",
       "    }\n",
       "\n",
       "    .dataframe thead th {\n",
       "        text-align: right;\n",
       "    }\n",
       "</style>\n",
       "<table border=\"1\" class=\"dataframe\">\n",
       "  <thead>\n",
       "    <tr style=\"text-align: right;\">\n",
       "      <th></th>\n",
       "      <th>Grand Prix</th>\n",
       "      <th>Date</th>\n",
       "      <th>Winner</th>\n",
       "      <th>Car</th>\n",
       "      <th>Laps</th>\n",
       "      <th>Time</th>\n",
       "      <th>Year</th>\n",
       "    </tr>\n",
       "  </thead>\n",
       "  <tbody>\n",
       "    <tr>\n",
       "      <th>0</th>\n",
       "      <td>Bahrain</td>\n",
       "      <td>28 Mar 2021</td>\n",
       "      <td>Lewis Hamilton</td>\n",
       "      <td>Mercedes</td>\n",
       "      <td>56.0</td>\n",
       "      <td>1:32:03.897</td>\n",
       "      <td>2021</td>\n",
       "    </tr>\n",
       "    <tr>\n",
       "      <th>1</th>\n",
       "      <td>Emilia Romagna</td>\n",
       "      <td>18 Apr 2021</td>\n",
       "      <td>Max Verstappen</td>\n",
       "      <td>Red Bull Racing Honda</td>\n",
       "      <td>63.0</td>\n",
       "      <td>2:02:34.598</td>\n",
       "      <td>2021</td>\n",
       "    </tr>\n",
       "    <tr>\n",
       "      <th>2</th>\n",
       "      <td>Portugal</td>\n",
       "      <td>02 May 2021</td>\n",
       "      <td>Lewis Hamilton</td>\n",
       "      <td>Mercedes</td>\n",
       "      <td>66.0</td>\n",
       "      <td>1:34:31.421</td>\n",
       "      <td>2021</td>\n",
       "    </tr>\n",
       "    <tr>\n",
       "      <th>3</th>\n",
       "      <td>Spain</td>\n",
       "      <td>09 May 2021</td>\n",
       "      <td>Lewis Hamilton</td>\n",
       "      <td>Mercedes</td>\n",
       "      <td>66.0</td>\n",
       "      <td>1:33:07.680</td>\n",
       "      <td>2021</td>\n",
       "    </tr>\n",
       "    <tr>\n",
       "      <th>4</th>\n",
       "      <td>Monaco</td>\n",
       "      <td>23 May 2021</td>\n",
       "      <td>Max Verstappen</td>\n",
       "      <td>Red Bull Racing Honda</td>\n",
       "      <td>78.0</td>\n",
       "      <td>1:38:56.820</td>\n",
       "      <td>2021</td>\n",
       "    </tr>\n",
       "  </tbody>\n",
       "</table>\n",
       "</div>"
      ],
      "text/plain": [
       "       Grand Prix         Date          Winner                    Car  Laps  \\\n",
       "0         Bahrain  28 Mar 2021  Lewis Hamilton               Mercedes  56.0   \n",
       "1  Emilia Romagna  18 Apr 2021  Max Verstappen  Red Bull Racing Honda  63.0   \n",
       "2        Portugal  02 May 2021  Lewis Hamilton               Mercedes  66.0   \n",
       "3           Spain  09 May 2021  Lewis Hamilton               Mercedes  66.0   \n",
       "4          Monaco  23 May 2021  Max Verstappen  Red Bull Racing Honda  78.0   \n",
       "\n",
       "          Time  Year  \n",
       "0  1:32:03.897  2021  \n",
       "1  2:02:34.598  2021  \n",
       "2  1:34:31.421  2021  \n",
       "3  1:33:07.680  2021  \n",
       "4  1:38:56.820  2021  "
      ]
     },
     "execution_count": 16,
     "metadata": {},
     "output_type": "execute_result"
    }
   ],
   "source": [
    "race_results.head()"
   ]
  },
  {
   "cell_type": "code",
   "execution_count": null,
   "id": "72e4abfd",
   "metadata": {},
   "outputs": [],
   "source": []
  },
  {
   "cell_type": "code",
   "execution_count": null,
   "id": "91062263",
   "metadata": {},
   "outputs": [],
   "source": []
  }
 ],
 "metadata": {
  "kernelspec": {
   "display_name": "Python 3",
   "language": "python",
   "name": "python3"
  },
  "language_info": {
   "codemirror_mode": {
    "name": "ipython",
    "version": 3
   },
   "file_extension": ".py",
   "mimetype": "text/x-python",
   "name": "python",
   "nbconvert_exporter": "python",
   "pygments_lexer": "ipython3",
   "version": "3.8.8"
  }
 },
 "nbformat": 4,
 "nbformat_minor": 5
}
